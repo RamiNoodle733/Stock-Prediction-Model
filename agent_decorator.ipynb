{
 "cells": [
  {
   "cell_type": "markdown",
   "id": "14a40a3f",
   "metadata": {},
   "source": [
    "# Define the @agent Decorator\n",
    "Create a Python decorator named @agent that wraps a function to add custom behavior."
   ]
  },
  {
   "cell_type": "code",
   "execution_count": null,
   "id": "9cc84a86",
   "metadata": {},
   "outputs": [],
   "source": [
    "# Define the @agent Decorator\n",
    "def agent(func):\n",
    "    def wrapper(*args, **kwargs):\n",
    "        while True:\n",
    "            func(*args, **kwargs)\n",
    "            cont = input(\"Continue to iterate? (yes/no): \").strip().lower()\n",
    "            if cont != 'yes':\n",
    "                print(\"Exiting iteration loop.\")\n",
    "                break\n",
    "    return wrapper"
   ]
  },
  {
   "cell_type": "markdown",
   "id": "07e76f19",
   "metadata": {},
   "source": [
    "# Implement the Iteration Logic\n",
    "Add logic inside the decorator to repeatedly call the wrapped function in a loop."
   ]
  },
  {
   "cell_type": "code",
   "execution_count": null,
   "id": "1e7f7959",
   "metadata": {},
   "outputs": [],
   "source": [
    "# The iteration logic is implemented within the @agent decorator.\n",
    "# It repeatedly calls the wrapped function and prompts the user for continuation."
   ]
  },
  {
   "cell_type": "markdown",
   "id": "aa6a1930",
   "metadata": {},
   "source": [
    "# Prompt for Continuation\n",
    "Include a user prompt inside the loop to ask \"Continue to iterate?\" and break the loop based on user input."
   ]
  },
  {
   "cell_type": "code",
   "execution_count": null,
   "id": "83dee885",
   "metadata": {},
   "outputs": [],
   "source": [
    "# The user prompt is included in the @agent decorator.\n",
    "# It asks \"Continue to iterate?\" and exits the loop if the user inputs anything other than 'yes'."
   ]
  },
  {
   "cell_type": "markdown",
   "id": "7d617a44",
   "metadata": {},
   "source": [
    "# Test the @agent Decorator\n",
    "Write a sample function, decorate it with @agent, and test the functionality by running the notebook."
   ]
  },
  {
   "cell_type": "code",
   "execution_count": null,
   "id": "8a5faf4b",
   "metadata": {},
   "outputs": [],
   "source": [
    "# Test the @agent Decorator\n",
    "@agent\n",
    "def sample_function():\n",
    "    print(\"Running the sample function...\")\n",
    "\n",
    "# Run the decorated function\n",
    "sample_function()"
   ]
  }
 ],
 "metadata": {
  "language_info": {
   "name": "python"
  }
 },
 "nbformat": 4,
 "nbformat_minor": 5
}
