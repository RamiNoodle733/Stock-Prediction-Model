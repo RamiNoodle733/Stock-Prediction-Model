{
 "cells": [
  {
   "cell_type": "markdown",
   "id": "6fcbb364",
   "metadata": {},
   "source": [
    "# Stock Prediction Analysis Notebook\n",
    "\n",
    "This notebook walks through data loading, visualization, preprocessing, model training, and evaluation for stock price prediction."
   ]
  },
  {
   "cell_type": "code",
   "execution_count": null,
   "id": "60c089f0",
   "metadata": {},
   "outputs": [],
   "source": [
    "import pandas as pd\n",
    "import matplotlib.pyplot as plt\n",
    "import seaborn as sns\n",
    "from data_loader import load_stock_data, visualize_stock_data, prepare_data\n",
    "from models import LinearRegressionModel, RandomForestModel, LSTMModel"
   ]
  },
  {
   "cell_type": "code",
   "execution_count": null,
   "id": "93897fa8",
   "metadata": {},
   "outputs": [],
   "source": [
    "# Load sample stock data\n",
    "ticker = 'AAPL'\n",
    "data = load_stock_data(ticker)\n",
    "data.head()"
   ]
  },
  {
   "cell_type": "code",
   "execution_count": null,
   "id": "2fd508e4",
   "metadata": {},
   "outputs": [],
   "source": [
    "# Plot close price time series\n",
    "visualize_stock_data(data, ticker, output_dir='results_notebook')\n",
    "plt.show()"
   ]
  },
  {
   "cell_type": "code",
   "execution_count": null,
   "id": "67a819de",
   "metadata": {},
   "outputs": [],
   "source": [
    "# Prepare data for modeling\n",
    "X_train, X_test, y_train, y_test, scaler = prepare_data(data, sequence_length=60, test_size=0.2)\n",
    "X_train.shape, X_test.shape"
   ]
  },
  {
   "cell_type": "code",
   "execution_count": null,
   "id": "fc5dccf4",
   "metadata": {},
   "outputs": [],
   "source": [
    "# Train a quick Linear Regression and evaluate\n",
    "lr = LinearRegressionModel()\n",
    "lr.fit(X_train, y_train)\n",
    "metrics, y_pred = lr.evaluate(X_test, y_test, scaler)\n",
    "metrics"
   ]
  },
  {
   "cell_type": "code",
   "execution_count": null,
   "id": "3a2c0f8d",
   "metadata": {},
   "outputs": [],
   "source": [
    "# Train and evaluate Random Forest model\n",
    "rf = RandomForestModel(n_estimators=100, max_depth=20)\n",
    "rf.fit(X_train, y_train)\n",
    "rf_metrics, rf_pred = rf.evaluate(X_test, y_test, scaler)\n",
    "rf_metrics"
   ]
  },
  {
   "cell_type": "code",
   "execution_count": null,
   "id": "bf42065a",
   "metadata": {},
   "outputs": [],
   "source": [
    "# Train and evaluate LSTM model\n",
    "lstm = LSTMModel((X_train.shape[1], 1))\n",
    "lstm.fit(X_train, y_train, epochs=20, batch_size=32)\n",
    "lstm_metrics, lstm_pred = lstm.evaluate(X_test, y_test, scaler)\n",
    "lstm_metrics"
   ]
  },
  {
   "cell_type": "code",
   "execution_count": null,
   "id": "2a1749e2",
   "metadata": {},
   "outputs": [],
   "source": [
    "# Plot LSTM training loss\n",
    "from models import plot_training_loss\n",
    "plot_training_loss(lstm.history)\n",
    "plt.show()"
   ]
  },
  {
   "cell_type": "code",
   "execution_count": null,
   "id": "f61e0450",
   "metadata": {},
   "outputs": [],
   "source": [
    "# Compare all models' performance\n",
    "from models import compare_models\n",
    "comparison_df = compare_models([lr, rf, lstm], X_test, y_test, scaler)\n",
    "comparison_df"
   ]
  },
  {
   "cell_type": "code",
   "execution_count": null,
   "id": "4cc10e82",
   "metadata": {},
   "outputs": [],
   "source": [
    "# Ablation study on sequence length\n",
    "import pandas as pd\n",
    "sequence_lengths = [10, 30, 60, 90, 120]\n",
    "results = []\n",
    "for seq in sequence_lengths:\n",
    "    Xtr, Xte, ytr, yte, _ = prepare_data(data, sequence_length=seq, test_size=0.2)\n",
    "    model = LinearRegressionModel()\n",
    "    model.fit(Xtr, ytr)\n",
    "    m, _ = model.evaluate(Xte, yte, scaler)\n",
    "    results.append({'Sequence Length': seq, 'RMSE_real': m['RMSE_real']})\n",
    "ablation_df = pd.DataFrame(results)\n",
    "ablation_df"
   ]
  },
  {
   "cell_type": "code",
   "execution_count": null,
   "id": "03acdc08",
   "metadata": {},
   "outputs": [],
   "source": [
    "# Future day prediction\n",
    "last_seq = data['Close'].values[-60:].reshape(1, 60, 1)\n",
    "for model in [lr, rf, lstm]:\n",
    "    pred = model.predict(last_seq)\n",
    "    price = scaler.inverse_transform(pred.reshape(-1,1))[0,0]\n",
    "    print(f'{model.name}: ${price:.2f}')"
   ]
  }
 ],
 "metadata": {
  "kernelspec": {
   "display_name": "base",
   "language": "python",
   "name": "python3"
  },
  "language_info": {
   "name": "python",
   "version": "3.12.7"
  }
 },
 "nbformat": 4,
 "nbformat_minor": 5
}
